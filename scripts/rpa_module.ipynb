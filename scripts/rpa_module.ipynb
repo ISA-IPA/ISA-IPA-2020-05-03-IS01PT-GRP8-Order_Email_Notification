{
 "cells": [
  {
   "cell_type": "markdown",
   "metadata": {},
   "source": [
    "## Entity Recognition"
   ]
  },
  {
   "cell_type": "code",
   "execution_count": 7,
   "metadata": {},
   "outputs": [],
   "source": [
    "import spacy\n",
    "from spacy import displacy\n",
    "from collections import Counter\n",
    "import en_core_web_sm\n",
    "nlp = en_core_web_sm.load()"
   ]
  },
  {
   "cell_type": "code",
   "execution_count": 8,
   "metadata": {},
   "outputs": [],
   "source": [
    "import re\n",
    "from bs4 import BeautifulSoup\n",
    "\n",
    "def clean_raw_text(raw_text):\n",
    "    soup = BeautifulSoup(raw_text, 'html.parser')\n",
    "    clean_soup = repr(soup.get_text().replace('\\n','.'))\n",
    "    clean_soup = re.sub(r'\\\\x[0-9A-Fa-f]{2}', ' ', clean_soup)\n",
    "    clean_soup = re.sub(r'\\\\u[0-9A-Fa-f]{4}', ' ', clean_soup)\n",
    "    clean_soup = re.sub(r'[\\.] +', '.', clean_soup)\n",
    "    clean_soup = re.sub(r'\\.+', '. ', clean_soup)\n",
    "    clean_soup = re.sub(' +', ' ', clean_soup)\n",
    "    return clean_soup\n",
    "\n",
    "def remove_entity_words(raw_text):\n",
    "    input_text = clean_raw_text(raw_text)\n",
    "    input_text = re.sub(r'http[s]?://(?:[a-zA-Z]|[0-9]|[$-_@.&+]|[!*\\(\\), ]|(?:%[0-9a-fA-F][0-9a-fA-F]))+', '_url_page_', input_text)\n",
    "    input_text = re.sub(r'[\\w\\.-]+@[\\w\\.-]+', '_email_replaced_', input_text)\n",
    "    tags = nlp(input_text)\n",
    "    for entity in tags.ents:\n",
    "        tag = entity.label_\n",
    "        text = entity.text\n",
    "        if tag in ['PERSON', 'ORG', 'EVENT', 'GPE', 'NORP', 'PRODUCT', 'MONEY']:\n",
    "            input_text = input_text.replace(text, '_'+tag+'_')\n",
    "    return input_text"
   ]
  },
  {
   "cell_type": "markdown",
   "metadata": {},
   "source": [
    "## Model Utils"
   ]
  },
  {
   "cell_type": "code",
   "execution_count": 3,
   "metadata": {},
   "outputs": [],
   "source": [
    "from sklearn.feature_extraction.text import TfidfVectorizer\n",
    "import pandas as pd \n",
    "from sklearn.svm import SVC\n",
    "from sklearn.neural_network import MLPClassifier  \n",
    "import numpy as np\n",
    "\n",
    "def train_mlp(X,y):\n",
    "    mlp = MLPClassifier(hidden_layer_sizes=(10,10), max_iter=1000)  \n",
    "    mlp.fit(X, y) \n",
    "    return mlp\n",
    "    \n",
    "def train_svm(X, y):\n",
    "    svm = SVC(C=1000000.0, gamma=\"auto\", kernel='rbf')\n",
    "    svm.fit(X, y)\n",
    "    return svm\n",
    "\n",
    "def load_docs(csv_file,delimiter=','):\n",
    "    data = pd.read_csv(csv_file, delimiter=delimiter) \n",
    "    tags = np.array(data.is_order_email)\n",
    "    labels = np.array(data.label)\n",
    "    docs = []\n",
    "    for i in range(len(tags)):\n",
    "        docs.append((tags[i],remove_entity_words(labels[i])))\n",
    "#         docs.append((tags[i],clean_raw_text(labels[i])))\n",
    "    return docs\n",
    "\n",
    "def create_tfidf_training_data(docs,min_df=5):\n",
    "    # Create the training data class labels\n",
    "    y = [d[0] for d in docs]\n",
    "\n",
    "    # Create the document corpus list\n",
    "    corpus = [d[1] for d in docs]\n",
    "\n",
    "    # Create the TF-IDF vectoriser and transform the corpus\n",
    "    vectorizer = TfidfVectorizer(min_df=min_df, token_pattern=r'(?u)\\b\\w*[a-zA-Z]\\w*\\b')\n",
    "    X = vectorizer.fit_transform(corpus)\n",
    "    return X, y, vectorizer\n",
    "\n",
    "def tfidf_transform_data(docs, vectorizer):\n",
    "        # Create the training data class labels\n",
    "    y = [d[0] for d in docs]\n",
    "\n",
    "    # Create the document corpus list\n",
    "    corpus = [d[1] for d in docs]\n",
    "\n",
    "    # Create the TF-IDF vectoriser and transform the corpus\n",
    "    X = vectorizer.transform(corpus)\n",
    "    return X, y\n"
   ]
  },
  {
   "cell_type": "markdown",
   "metadata": {},
   "source": [
    "## Load Model"
   ]
  },
  {
   "cell_type": "code",
   "execution_count": 144,
   "metadata": {},
   "outputs": [],
   "source": [
    "import pickle\n",
    "vectorizer = pickle.load(open(\"model/tfidf.pkl\", \"rb\"))\n",
    "model = pickle.load(open(\"model/svm_model.pkl\", \"rb\"))"
   ]
  },
  {
   "cell_type": "markdown",
   "metadata": {},
   "source": [
    "## Test Model"
   ]
  },
  {
   "cell_type": "code",
   "execution_count": 42,
   "metadata": {},
   "outputs": [],
   "source": [
    "def split(list_text, mark):\n",
    "    res = []\n",
    "    for text in list_text:\n",
    "        res.extend(text.split(mark))\n",
    "    return res"
   ]
  },
  {
   "cell_type": "code",
   "execution_count": 153,
   "metadata": {},
   "outputs": [],
   "source": [
    "\n",
    "def is_text_order_notif(raw_text):\n",
    "    raw_text = remove_entity_words(raw_text)\n",
    "    raws = [raw_text]\n",
    "#     raws = split(raws, '-')\n",
    "#     raws = split(raws, ',')\n",
    "#     raws = split(raws, '!')\n",
    "#     raws = split(raws, '?')\n",
    "#     raws = split(raws, '.')\n",
    "    print(raws)\n",
    "    test_words = []\n",
    "    for r in raws:\n",
    "        test_words.append((0,r))\n",
    "    x, y = tfidf_transform_data(test_words, vectorizer)\n",
    "    pred = model.predict(x)\n",
    "    print(pred)\n",
    "    for res in pred:\n",
    "        if res == 1:\n",
    "            return True\n",
    "    return False"
   ]
  },
  {
   "cell_type": "code",
   "execution_count": 150,
   "metadata": {},
   "outputs": [
    {
     "name": "stdout",
     "output_type": "stream",
     "text": [
      "['\"Domino\\'s _ORG_ ', \" No Reply Domino's Pizza Online Ordering \", ' Email Confirmation Wed 6:01 _ORG_ _ORG_ dominos', ' com', ' sg Order Confirmation Dear MR RAYMOND DJAJALAKSANA Thank you for your order', ' To practise social distancing', ' we are now implementing Zero Contact Delivery and _GPE_', ' You have ordered the followi\"']\n",
      "[0 0 0 0 1 0 0 0]\n"
     ]
    },
    {
     "data": {
      "text/plain": [
       "True"
      ]
     },
     "execution_count": 150,
     "metadata": {},
     "output_type": "execute_result"
    }
   ],
   "source": [
    "raw_text = \"Google Security alert for your linked Google Account Sun 4/12 Your account ray-cap@hotmail.com is listed as the recovery email for raymond.djajalaksana@gmail.com. Don't recognize this account? Click here New sign-in to your linked account raymond.djajalaksana@gmail.com Your Google Account was just signed in to fr\"\n",
    "raw_text = \"Domino's Pizza Singapore - No Reply Domino's Pizza Online Ordering - Email Confirmation Wed 6:01 PM Domino's Pizza Singapore dominos.com.sg Order Confirmation Dear MR RAYMOND DJAJALAKSANA Thank you for your order! To practise social distancing, we are now implementing Zero Contact Delivery and Takeaway. You have ordered the followi\"\n",
    "\n",
    "is_text_order_notif(raw_text)"
   ]
  },
  {
   "cell_type": "markdown",
   "metadata": {},
   "source": [
    "## Building NN / SVM Model"
   ]
  },
  {
   "cell_type": "code",
   "execution_count": 129,
   "metadata": {},
   "outputs": [],
   "source": [
    "from sklearn.model_selection import train_test_split\n",
    "from sklearn.metrics import confusion_matrix\n",
    "base_path = 'raw_data/{}'\n",
    "docs = load_docs(base_path.format(\"order_search.csv\"))\n",
    "for additional_doc in load_docs(base_path.format(\"all_email_1.csv\"), delimiter='|'):\n",
    "    docs.append(additional_doc)\n",
    "for additional_doc in load_docs(base_path.format(\"all_email_2.csv\"), delimiter='|'):\n",
    "    docs.append(additional_doc)\n",
    "for additional_doc in load_docs(base_path.format(\"all_email_3.csv\"), delimiter='|'):\n",
    "    docs.append(additional_doc)"
   ]
  },
  {
   "cell_type": "code",
   "execution_count": 135,
   "metadata": {},
   "outputs": [],
   "source": [
    "x, y, vector = create_tfidf_training_data(docs, min_df=7)\n",
    "X_train, X_test, y_train, y_test = train_test_split(x, y, test_size=0.3, random_state=12)"
   ]
  },
  {
   "cell_type": "code",
   "execution_count": 141,
   "metadata": {},
   "outputs": [
    {
     "name": "stdout",
     "output_type": "stream",
     "text": [
      "0.9572953736654805\n",
      "[[244  10]\n",
      " [  2  25]]\n",
      "0.9644128113879004\n",
      "[[244   8]\n",
      " [  2  27]]\n"
     ]
    }
   ],
   "source": [
    "model = train_mlp(X_train, y_train)\n",
    "pred = model.predict(X_test)\n",
    "print(model.score(X_test, y_test))\n",
    "print(confusion_matrix(pred, y_test))\n",
    "\n",
    "model = train_svm(X_train, y_train)\n",
    "pred = model.predict(X_test)\n",
    "print(model.score(X_test, y_test))\n",
    "print(confusion_matrix(pred, y_test))\n"
   ]
  },
  {
   "cell_type": "code",
   "execution_count": 140,
   "metadata": {},
   "outputs": [
    {
     "name": "stdout",
     "output_type": "stream",
     "text": [
      "558\n",
      "['00am', '00pm', '30am', '__org_', '_email_replaced_', '_event_', '_gpe_', '_money_', '_money__money_', '_norp_', '_org_', '_person_', '_product_', '_url_page_', 'a', 'about', 'above', 'access', 'account', 'add', 'added', 'address', 'after', 'alert', 'all', 'also', 'alumni', 'am', 'amazon', 'amount', 'an', 'and', 'announcement', 'another', 'any', 'anyone', 'app', 'apply', 'april', 'are', 'around', 'as', 'at', 'attachments', 'aug', 'august', 'automated', 'available', 'away', 'awesome', 'b', 'back', 'based', 'be', 'because', 'been', 'before', 'being', 'below', 'best', 'better', 'beverages', 'big_person_', 'bill', 'book', 'booking', 'break', 'browse', 'browser', 'bundle', 'by', 'call', 'can', 'cancelled', 'cap', 'card', 'career', 'catalog', 'cdjapan', 'celebrate', 'centre', 'change', 'changes', 'check', 'chicken', 'choosing', 'click', 'code', 'coffee', 'collection', 'com', 'combed', 'come', 'coming', 'complete', 'conditions', 'confirmation', 'confirmed', 'contact', 'contains', 'contract', 'course', 'coursera', 'courses', 'created', 'credit', 'credited', 'cup', 'curly', 'customer', 'd', 'daily', 'data', 'date', 'day', 'days', 'dbs', 'deal', 'deals', 'dear', 'dec', 'december', 'delicious', 'deliver', 'delivered', 'delivery', 'dependency', 'details', 'developer', 'development', 'did', 'dine', 'discussing', 'discussions', 'displayed', 'djajalaksana', 'do', 'domino', 'don', 'download', 'driver', 'due', 'during', 'e', 'early', 'east', 'easy', 'edit', 'email', 'emails', 'ends', 'english', 'enjoy', 'enjoyable', 'enjoyed', 'ensure', 'even', 'event', 'every', 'everyone', 'exclusive', 'exp', 'experience', 'expire', 'expires', 'favourite', 'features', 'feb', 'february', 'feedback', 'few', 'find', 'first', 'flight', 'following', 'food', 'for', 'found', 'free', 'fri', 'friday', 'friends', 'from', 'full', 'fully', 'fun', 'funds', 'future', 'fw', 'game', 'get', 'github', 'give', 'glad', 'global', 'golden', 'good', 'got', 'grab', 'graphics', 'great', 'group', 'had', 'happening', 'happy', 'has', 'have', 'having', 'hear', 'hecalliot', 'hello', 'help', 'her', 'here', 'hey', 'hi', 'his', 'hit', 'home', 'hope', 'how', 'i', 'ibrahim', 'id', 'if', 'important', 'in', 'inform', 'information', 'instructed', 'instructor', 'interests', 'into', 'investments', 'invited', 'iqbal', 'is', 'issued', 'it', 'item', 'items', 'jan', 'january', 'job', 'jobs', 'join', 'jul', 'july', 'june', 'jurong', 'jushop_', 'just', 'k', 'keep', 'know', 'large', 'last', 'latest', 'lazmall', 'learn', 'learning', 'let', 'like', 'limited', 'line', 'link', 'list', 'listed', 'live', 'log', 'looking', 'love', 'ltd', 'm', 'made', 'maintain', 'make', 'manage', 'mar', 'march', 'match', 'matches', 'may', 'meal', 'member', 'members', 'message', 'might', 'minimum', 'miss', 'moment', 'mon', 'monday', 'money', 'more', 'morning', 'most', 'mr', 'much', 'muhammad', 'my', 'n', 'need', 'needs', 'net', 'never', 'new', 'news', 'next', 'no', 'not', 'note', 'notification', 'nov', 'now', 'number', 'o', 'ocbc', 'oct', 'of', 'off', 'offer', 'offers', 'on', 'one', 'online', 'only', 'or', 'order', 'ordered', 'ordering', 'orders', 'our', 'out', 'over', 'package', 'page', 'password', 'pay', 'payment', 'paynow', 'people', 'personal', 'pizza', 'pizzas', 'place', 'placed', 'plan', 'please', 'pm', 'points', 'policy', 'post', 'posted', 'posts', 'president', 'preview', 'price', 'pricing', 'prime', 'profile', 'promo', 'promotion', 'properly', 'provide', 'provided', 'pte', 'purchase', 'purchased', 'r', 'ray', 'raycap', 'raymond', 're', 'read', 'ready', 'receipt', 'receipts', 'receive', 'received', 'recent', 'recently', 'recognize', 'recommendations', 'recommended', 'redeem', 'redeemable', 'redemption', 'redmart', 'reference', 'registration', 'regular', 'reminder', 'rendez', 'rendez_vous', 'rendez_vous1', 'reply', 'repository', 'request', 'requested', 'required', 'respond', 'rewards', 'ride', 'right', 'rode', 's', 'safe', 'sale', 'saturday', 'save', 'savings', 'security', 'see', 'selected', 'seller', 'sender', 'sent', 'sep', 'september', 'service', 'services', 'set', 'sg', 'sgd', 'share', 'shipped', 'shipping', 'shopping', 'should', 'side', 'sides', 'sign', 'signed', 'singapore', 'sips', 'sized', 'so', 'some', 'something', 'sorry', 'special', 'specializations', 'specific', 'speed', 'starbucks', 'stars', 'start', 'started', 'stay', 'steam', 'step', 'still', 'stocks', 'store', 'stores', 'street', 'subject', 'successful', 'successfully', 'sunday', 'support', 'sure', 't', 'take', 'takeaway', 'tall', 'team', 'terms', 'thank', 'thanks', 'that', 'the', 'them', 'there', 'these', 'they', 'things', 'think', 'this', 'through', 'thu', 'thursday', 'time', 'to', 'today', 'top', 'total', 'track', 'tracking', 'transaction', 'transfer', 'transferred', 'travel', 'treat', 'trending', 'trip', 'trouble', 'try', 'tue', 'tuesday', 'twitter', 'two', 'type', 'u', 'udemy', 'unable', 'unread', 'until', 'up', 'update', 'updated', 'us', 'use', 'using', 'valid', 'valued', 've', 'vehicle', 'venti', 'verification', 'verify', 'version', 'via', 'view', 'viewing', 'visit', 'vouchers', 'vulnerable', 'wait', 'want', 'was', 'way', 'we', 'web', 'wed', 'wednesday', 'week', 'weekend', 'welcome', 'what', 'when', 'where', 'while', 'will', 'wishlist', 'with', 'withdrawn', 'working', 'world', 'would', 'write', 'www', 'x', 'year', 'you', 'your', 'yrs']\n"
     ]
    }
   ],
   "source": [
    "print(len(vector.get_feature_names()))\n",
    "print(vector.get_feature_names())"
   ]
  },
  {
   "cell_type": "markdown",
   "metadata": {},
   "source": [
    "## Save Model"
   ]
  },
  {
   "cell_type": "code",
   "execution_count": 143,
   "metadata": {},
   "outputs": [],
   "source": [
    "import pickle\n",
    "\n",
    "pickle.dump(model, open('model/svm_model.pkl', 'wb'))\n",
    "pickle.dump(vector, open(\"model/tfidf.pkl\", \"wb\"))"
   ]
  },
  {
   "cell_type": "markdown",
   "metadata": {},
   "source": [
    "## RPA-Bot for email scrapping"
   ]
  },
  {
   "cell_type": "code",
   "execution_count": 154,
   "metadata": {},
   "outputs": [],
   "source": [
    "email_account = ''\n",
    "email_pwd = ''"
   ]
  },
  {
   "cell_type": "code",
   "execution_count": 1,
   "metadata": {},
   "outputs": [],
   "source": [
    "import tagui as t\n",
    "import numpy as np"
   ]
  },
  {
   "cell_type": "code",
   "execution_count": 32,
   "metadata": {},
   "outputs": [],
   "source": [
    "def type_into(xpath, type_cmd):\n",
    "    wait_element(xpath)\n",
    "    t.type(xpath, type_cmd)\n",
    "\n",
    "def click(xpath):\n",
    "    wait_element(xpath)\n",
    "    t.click(xpath)\n",
    "    \n",
    "def present(xpath):\n",
    "    return wait_element(xpath)\n",
    "\n",
    "def read(xpath):\n",
    "    wait_element(xpath)\n",
    "    return t.read(xpath)\n",
    "\n",
    "def wait_element(xpath):\n",
    "    for i in range(10):\n",
    "        if t.present(xpath):\n",
    "            return True\n",
    "        t.wait(1)\n",
    "    return False\n",
    "    \n",
    "def login_outlook(account, password):\n",
    "    t.url('https://login.live.com/login.srf?wa=wsignin1.0&rpsnv=13&ct=1586073207&rver=7.0.6737.0&wp=MBI_SSL&wreply=https%3a%2f%2foutlook.live.com%2fowa%2f%3fnlp%3d1%26RpsCsrfState%3d6590c65e-2e3f-b1ed-bda9-2c5e901a9000&id=292841&aadredir=1&whr=outlook.sg&CBCXT=out&lw=1&fl=dob%2cflname%2cwld&cobrandid=90015')\n",
    "    type_into('//*[@type=\"email\"]', account + '[enter]')\n",
    "    type_into('//*[@name=\"passwd\"]', password + '[enter]')\n",
    "    \n",
    "def login_gmail(account,password):\n",
    "    login_stackoverflow(account,password)\n",
    "    t.url('https://www.gmail.com')\n",
    "    \n",
    "def login_stackoverflow(account, password):\n",
    "    t.url('https://stackoverflow.com/users/login')\n",
    "    click('//button[@data-provider=\"google\"]')\n",
    "    if wait_element('//div[@data-identifier=\"{}\"]'.format(account)):\n",
    "        click('//div[@data-identifier=\"{}\"]'.format(account))\n",
    "    else:\n",
    "        c = t.count('//div[@jsslot=\"\"]//li')\n",
    "        click('(//div[@jsslot=\"\"]//li)[{}]'.format(c))\n",
    "        type_into('//*[@type=\"email\"]', account + '[enter]')\n",
    "    type_into('//*[@name=\"passwd\"]', password + '[enter]')\n",
    "    return\n",
    "\n",
    "def search_keyword(keyword):\n",
    "    clear_button  = '//button[@aria-label=\"Exit Search\"]'\n",
    "    search_button = '//button[@aria-label=\"Search\"]'\n",
    "    if t.present(clear_button):\n",
    "        click(clear_button)\n",
    "    type_into('//input[contains(@aria-label, \"Search\")]', keyword )\n",
    "    click(search_button)\n",
    "\n",
    "def extract_outlook_email_headline(limit=100):\n",
    "    list_item = []\n",
    "    listbox_xpath = '//div[@role=\"listbox\"]'\n",
    "    if limit == 0 :\n",
    "        limit = 1000\n",
    "    for i in range(1, limit+1):\n",
    "        item_xpath = '(' + listbox_xpath + '//div[@role=\"option\"])[{}]'.format(i)\n",
    "        if not present(item_xpath):\n",
    "            print('email {} is not present'.format(i))\n",
    "            break\n",
    "        email_id = t.read(item_xpath + '/@data-convid')\n",
    "        email_headline = t.read(item_xpath + '/@aria-label')\n",
    "        list_item.append((email_id, email_headline))\n",
    "    return np.array(list_item)\n",
    "    \n",
    "def extract_google_email_headline(limit=10):\n",
    "    list_item = []\n",
    "    listbox_xpath = '(//table[@class=\"F cf zt\"])[2]'\n",
    "    if limit == 0 :\n",
    "        limit = 1000\n",
    "    i = 1\n",
    "    while len(list_item) < limit:\n",
    "        item_xpath = '(' + listbox_xpath + '//tr)[{}]//td[@class=\"xY a4W\"]'.format(i)\n",
    "        if not present(item_xpath):\n",
    "            older_button = '//div[@data-tooltip=\"Older\"]'\n",
    "            click(older_button)\n",
    "            i = 1\n",
    "            continue\n",
    "        t.hover(item_xpath)\n",
    "        email_id = item_xpath\n",
    "        email_headline = clean_raw_text(read(item_xpath))\n",
    "        header_text = read('(' + listbox_xpath + '//tr)[{}]//div[@class=\"afn\"]'.format(i))\n",
    "        list_item.append((email_id, email_headline, is_gmail_unread(header_text)))\n",
    "        i += 1\n",
    "    return list_item\n",
    "\n",
    "\n",
    "def get_email_content(i):\n",
    "    listbox_xpath = '//div[@role=\"listbox\"]'\n",
    "    item_xpath = '(' + listbox_xpath + '//div[@role=\"option\"])[{}]'.format(i)\n",
    "    click(item_xpath)\n",
    "    clean_html_text = clean_raw_text(read('//div[@class=\"wide-content-host\"]'))\n",
    "    click('//button[@aria-label=\"More mail actions\"]')\n",
    "    click('//button[@name=\"Mark as unread\"]')\n",
    "    t.wait(1)\n",
    "    click('//button[@aria-label=\"Close\"]')\n",
    "    return clean_html_text\n",
    "\n",
    "def get_gmail_content(item_xpath, is_unread):\n",
    "    click(item_xpath)\n",
    "    content = t.read('//div[@role=\"listitem\"]')\n",
    "    t.hover('//div[contains(@title,\"Mark as unread\")]')\n",
    "    click('(//div[contains(@data-tooltip,\"Mark as unread\")])[2]')\n",
    "    return content\n",
    "    \n",
    "def is_gmail_unread(header_text):\n",
    "    r = header_text.split('unread,')\n",
    "    return len(r) == 2 and r[0] == ''"
   ]
  },
  {
   "cell_type": "code",
   "execution_count": 2,
   "metadata": {},
   "outputs": [
    {
     "data": {
      "text/plain": [
       "True"
      ]
     },
     "execution_count": 2,
     "metadata": {},
     "output_type": "execute_result"
    }
   ],
   "source": [
    "t.init(visual_automation = False, chrome_browser = True)"
   ]
  },
  {
   "cell_type": "code",
   "execution_count": 155,
   "metadata": {},
   "outputs": [
    {
     "name": "stdout",
     "output_type": "stream",
     "text": [
      "[RPA][ERROR] - cannot find //*[@type=\"email\"]\n",
      "[RPA][ERROR] - cannot find //*[@name=\"passwd\"]\n"
     ]
    },
    {
     "data": {
      "text/plain": [
       "True"
      ]
     },
     "execution_count": 155,
     "metadata": {},
     "output_type": "execute_result"
    }
   ],
   "source": [
    "login_outlook(email_account, email_pwd)\n",
    "t.wait(3)"
   ]
  },
  {
   "cell_type": "code",
   "execution_count": 33,
   "metadata": {},
   "outputs": [
    {
     "data": {
      "text/plain": [
       "[('((//table[@class=\"F cf zt\"])[2]//tr)[1]//td[@class=\"xY a4W\"]',\n",
       "  \"'FYI: Insider Purchases and Sales in Securities You Hold - The following list summarizes recently published information regarding corporate insider purchases or sales for securities you hold in your account. This data is presented for informational purposes'\",\n",
       "  False),\n",
       " ('((//table[@class=\"F cf zt\"])[2]//tr)[2]//td[@class=\"xY a4W\"]',\n",
       "  \"'Raymond Adalah Kabar Baik - Kiranya warta ini menolong kita untuk semakin kuat dan berpengharapan didalam Yesus Kristus Tuhan kita Web Version Sabtu, 25 April 2020 Sapaan Lembaga Alkitab Indonesia : Raymond, Kamu Adalah Kabar'\",\n",
       "  True),\n",
       " ('((//table[@class=\"F cf zt\"])[2]//tr)[3]//td[@class=\"xY a4W\"]',\n",
       "  \"'Here is your One-Time Password (OTP) - Here is your One-Time Password (OTP) Dear Valued Customer Please use this One-Time Password (OTP) - RAU-234783 – to log in to your account. This OTP, requested on 24 April 2020 at 02:13:56 PM, will'\",\n",
       "  False),\n",
       " ('((//table[@class=\"F cf zt\"])[2]//tr)[4]//td[@class=\"xY a4W\"]',\n",
       "  \"'Here is a contract note showing your investments, as at (23 Apr 2020) - Here is a contract note showing your investments Dear Valued Customer A contract note detailing your latest investments, as at 23 Apr 2020, is now available. To view the contract note: Log in to your'\",\n",
       "  False),\n",
       " ('((//table[@class=\"F cf zt\"])[2]//tr)[5]//td[@class=\"xY a4W\"]',\n",
       "  \"'Message Notification - html { width: 100% } ::-moz-selection { background:#a02200; color:#fff } ::selection { background: #a02200; color: #fff } . ExternalClass, . ReadMsgBody { width: 100%; background-color: #393939 } body. '\",\n",
       "  False),\n",
       " ('((//table[@class=\"F cf zt\"])[2]//tr)[6]//td[@class=\"xY a4W\"]',\n",
       "  \"'BOUGHT 25 GOLD @ 27. 19 (UXXX7918) - . Message Reference Number: 0-0, Sent Date: 2020. 04. 23 13:25:41 -0400 MRN:GE2TQOJWGEZTEMJUHAZDO7DSMF4W233OMQXGI2TBNJQWYYLLONQW4YKAM5WWC2LMFZRW63L4GB6DA%3D%3D%3D'\",\n",
       "  False),\n",
       " ('((//table[@class=\"F cf zt\"])[2]//tr)[7]//td[@class=\"xY a4W\"]',\n",
       "  \"'BOUGHT 12 SBUX @ 75. 3662 (UXXX7918) - . Message Reference Number: 0-0, Sent Date: 2020. 04. 23 12:49:07 -0400 MRN:GE2TQNZYGQYDINBSGYYDE7DSMF4W233OMQXGI2TBNJQWYYLLONQW4YKAM5WWC2LMFZRW63L4GB6DA%3D%3D%3D'\",\n",
       "  False),\n",
       " ('((//table[@class=\"F cf zt\"])[2]//tr)[8]//td[@class=\"xY a4W\"]',\n",
       "  \"'SOLD 50 USO @ 2. 76 (UXXX7918) - . Message Reference Number: 0-0, Sent Date: 2020. 04. 23 12:34:52 -0400 MRN:GE2TQOJXGY3TIOJWGI2TI7DSMF4W233OMQXGI2TBNJQWYYLLONQW4YKAM5WWC2LMFZRW63L4GB6DA%3D%3D%3D'\",\n",
       "  False),\n",
       " ('((//table[@class=\"F cf zt\"])[2]//tr)[9]//td[@class=\"xY a4W\"]',\n",
       "  \"'SOLD 100 USO @ 2. 77 (UXXX7918) - . Message Reference Number: 0-0, Sent Date: 2020. 04. 23 11:33:36 -0400 MRN:GE2TQNZYHA2TMMRQHA2DK7DSMF4W233OMQXGI2TBNJQWYYLLONQW4YKAM5WWC2LMFZRW63L4GB6DA%3D%3D%3D'\",\n",
       "  False),\n",
       " ('((//table[@class=\"F cf zt\"])[2]//tr)[10]//td[@class=\"xY a4W\"]',\n",
       "  \"'Senior Backend Developer Opportunity| Stanton House - Hi Raymond, I trust this email finds you well. A quick introduction of myself, I am a recruiter specializing in Tech Space across APAC including Malaysia, SingaReply'\",\n",
       "  False)]"
      ]
     },
     "execution_count": 33,
     "metadata": {},
     "output_type": "execute_result"
    }
   ],
   "source": [
    "extract_google_email_headline(limit=10)"
   ]
  },
  {
   "cell_type": "code",
   "execution_count": 31,
   "metadata": {},
   "outputs": [
    {
     "data": {
      "text/plain": [
       "'Lembaga Alkitab Indonesia info@alkitab.or.id via\\xa0bounce.s7.exacttarget.com\\xa0Sat, Apr 25, 11:20 AM (1 day ago)to me \\n\\n  \\n\\n    \\n    \\n    \\n    \\n    \\n  \\n  \\nKiranya warta ini menolong kita untuk semakin kuat dan berpengharapan didalam Yesus Kristus Tuhan kita\\n    \\n    \\n      \\n        \\n          \\n \\n    \\n    \\n        \\n        \\n            \\n                \\n            Web Version\\n                \\n            \\n        \\n        \\n      \\n\\n        \\n      \\n      \\n        \\n          \\n            \\n              \\n                \\n                  \\n                    \\n                      \\n                        \\n                          \\n                          \\n                            \\n                            \\n                               \\n                                \\n                                  \\n                                    \\n                                        \\n                                          \\n                                            \\n                                              \\n                                              \\n                                                \\n                                                  \\n\\t\\n\\tSabtu, 25 April 2020\\n\\t\\xa0\\n\\n\\n\\tSapaan Lembaga Alkitab Indonesia :\\xa0\\n\\tRaymond,\\xa0Kamu Adalah Kabar Baik\\n\\t\\xa0\\n\\t\"Le (Nak), jangan lupa sering-sering menengok Mbah Puteri (Nenek) yang sudah hidup sendiri di Klaten,\" pesan Ibu saya sesudah kakek saya wafat di tahun 1985-an. Tahun 1982-1989 saya kuliah di Yogyakarta sekitar 30 km dari Klaten dan harus indekos di dekat kampus. Pesan Ibu saya\\xa0...\\xa0\\nSelengkapnya\\nGod is Our Refuge\\n\\t\\n\\tKesaksian Daud dalam Alkitab, “Biarlah aku berlindung di bawah naungan sayap-Mu.\" (Mazmur 61:5).\\xa0Daud mengungkapkan kekuatirannya., dan hal ini sebenarnya bertujuan untuk menguatkan dirinya dari rasa khawatir, takut, dan putus asa. Hanya kepada Tuhan sajalah perlindungan itu didapatkannya..\\n\\t\\xa0\\nTonton Video\\n\\n\\n\\t\\n\\tPembawa Kabar Baik\\n\\t\\xa0\\n\\tMenjadi pembawa berita seperti yang kita saksikan di berbagai media sesungguhnya bukanlah hal yang mudah. Seorang pembawa berita memiliki tanggungjawab atas keabsahan berita yang disampaikannya. Itu sebabnya sangat penting bagi seorang pembawa berita menguasai materi yang akan disampaikan dan menguji kebenarannya terlebih dahulu. Jika seorang pembawa berita salah dalam menyampaikan informasi, maka dampaknya akan sangat besar bagi orang-orang yang mendengarnya. Hal ini didukung pula dengan keterbatasan pendengar dalam ...\\xa0\\n\\t\\xa0\\nSelengkapnya\\n\\n\\n\\n\\n\\t\\xa0\\n\\tMenjadi Pembawa Kabar Baik\\n\\t\\xa0\\n\\tKitab Injil mencatat bahwa para perempuan menjadi saksi mula-mula bahwa Yesus telah bangkit. Mereka berbagi kabar sukacita itu kepada para murid yang lain. Kabar baik memang harus diteruskan, diberitakan, dibagikan. Kabar baik memberi kelegaan, membangkitkan harapan dan meneguhkan iman.\\n\\t\\n\\tKisah Perempuan yang membawa kabar baik diceritakan dengan begitu hidup oleh Ibu Puji, seorang tuna netra warga GKJ Jakarta. Sejak lama, Ibu Puji dalam segala keterbatasannya belajar mencintai Kitab Suci dan membagikan berkat Kabar Baik yang didengar dan dipelajarinya kepada orang lain melalui dongeng.\\n\\t\\n\\tJika Ibu Puji saja memiliki semangat yang begitu besar membagikan kabar baik kepada sesama, kita pun semestinya demikian. Karena kita pun dipanggil Tuhan untuk menjadi pembawa Kabar Baik. Seperti ada tertulis: \"Betapa indahnya kedatangan mereka yang membawa kabar baik!\" (Roma 10:15b).\\nDengarkan Dongeng\\n\\n\\n\\n\\n\\tDoa Bagi Bangsa\\n\\t\\xa0\\n\\tDitengah perjuangan dalam menghadapi musibah dan bencana virus COVID-19 yang sedang melanda bangsa kita, mari kita bersatu hati bersepakat untuk\\xa0 menaikkan doa kita :\\nMari Berdoa\\n\\tPermohonan Doa\\n\\t\\xa0\\n\\tBila Sahabat Alkitab memiliki\\xa0permohonan\\xa0doa khusus, maka mohon mengisi dan mengirimkan\\xa0form permohonan doa dengan klik \"Form Doa\" dibawah ini :\\nForm Doa\\n\\tYuk Ngobrolin Alkitab\\n\\t\\xa0\\n\\tMari terus mendengar suara-Nya melalui bacaan, renungan, serta doa yang akan ditayangkan setiap harinya melalui Podcast Lembaga Alkitab Indonesia\\xa0\\nDengarkan\\n\\n\\n\\t\\n\\t\\t\\n\\t\\tBersama LAI Lawan Covid-19\\n\\n\\t\\t\\xa0\\n\\n\\t\\t\\nLAI mengucap syukur atas penyertaan Tuhan dan berterima kasih atas empati dan dukungan para sahabat Alkitab dalam usaha pengadaan paket Covid-19. Sampai tanggal 23 April 2020 ini telah terhimpun pengadaan 437 paket dukungan. Masih dibutuhkan 1511 Paket Dukungan\\n\\t\\t\\n\\t\\tKami kembali mengajak para Sahabat untuk berbelarasa dan bersolidaritas serta saling menguatkan semua pihak yang terdampak. Di saat seperti inilah setiap orang perlu dibantu untuk tetap melihat pertolongan serta cahaya cinta kasih Kristus.\\n\\t\\t\\n\\t\\tDonasi Transfer melalui\\xa0:\\n\\t\\tBRI Cabang Kramat Raya\\n\\t\\tNo. Rek 0335.0100.0281.304\\xa0\\n\\t\\tBank BNI Cabang Kramat Raya\\n\\t\\tNo. Rek 001.053.4054.\\xa0\\n\\t\\tBCA Cabang Matraman\\n\\t\\tNo Rek. 3423016261\\xa0\\n\\t\\tBank Mandiri Cabang Gambir,\\n\\t\\tNo. Rek 119.008.0000126\\n\\t\\t\\n\\t\\tBantuan bisa di salurkan melalui :\\n\\t\\tGO-PAY\\xa0\\xa0|\\xa0\\xa0OVO\\xa0\\xa0|\\xa0 \\xa0DANA\\n\\t\\t\\xa0\\n\\t\\tScan QR code\\n\\t\\tdengan klik Info dibawah ini :\\nInfo Lebih Lanjut\\n\\n\\t\\n\\tGameboard Pahlawan Iman\\n\\n\\t\\n\\tSekarang di rumah aja yaa…\\n\\tAyo ajak anak-anak bermain dan belajar kisah para tokoh Alkitab Perjanjian Lama dengan Gameboard Pahlawan Iman\\xa0Terbitan.\\xa0TERBARU dari LAI.\\n\\t\\n\\tPemesanan dapat di lakukan di :\\n\\tSHOPEE |\\xa0\\nTOKOPEDIA\\xa0\\xa0| BLIBLI\\xa0| \\nBUKALAPAK\\n\\t\\n\\tKami mengajak jemaat mengunjungi toko online Bible House LAI Perwakilan Medan, Makassar, Manado dan Jayapura di TOKOPEDIA.\\n\\tKata kunci pencarian: BIBLE HOUSE.\\n\\t\\n\\tAtau bisa juga dengan menghubungi nomor dibawah ini melalui sms/whatsapp\\xa0:\\xa0\\n\\t\\n\\tJAKARTA\\xa0 \\xa0 \\xa0: 0811 9952 890\\n\\tMEDAN\\xa0 \\xa0 \\xa0 \\xa0 : 0813 3144 2551\\n\\tMAKASSAR : 0852 9987 8637\\n\\tMANADO\\xa0 \\xa0 \\xa0: 0822 9304 0958\\n\\tJAYAPURA\\xa0 \\xa0:\\xa00812 5122 7424\\n\\t\\xa0\\nInfo Lebih Lanjut\\n\\n\\n\\tBerbagi Kasih di Tengah Bencana\\n\\t\\xa0\\n\\tPenyerahan Tahap Pertama Paket Peduli Covid-19 LAI Kita patut bersyukur di tengah pandemi Covid-19 yang melanda negeri ini, Tuhan mengirimkan orang-orang baik yang memiliki empati dan bersedia mendukung pelayanan LAI, menggalang dukungan menghadapi bencana Covid-19. Program penggalangan dukungan ini telah dilakukan LAI sejak awal Maret 2020 yang lalu. Penyaluran paket bantuan berupa :\\n\\nBaca Selengkapnya\\n\\n\\nKabar dari Kantor LAI\\nPerwakilan Medan\\n\\t\\n\\tWabah virus Corona telah melanda beberapa negara di dunia termasuk Indonesia. Salah satu upaya pemerintah untuk memutuskan rantai penyebaran virus tersebut adalah dengan melakukan Phisycal Distancing. Sampai batas waktu yang tidak ditentukan, masyarakat diminta untuk membatasi kegiatan di luar rumah termasuk kegiatan berbelanja di toko-toko buku. Sebagai lembaga keagamaan, Lembaga Alkitab Indonesia tentu turut ...\\n\\t\\xa0\\nSelengkapnya\\n\\nKabar dari Kantor LAI\\nPerwakilan Makassar\\n\\t\\n\\tDi tengah situasi penyebaran virus Covid-19 yang begitu cepat,siapa pun bisa terpapar. \\xa0Di samping itu, banyak bidang kehidupan yang terdampak. Salah satu diantara nya adalah pelayanan Lembaga Alkitab Indonesia baik kantor \\xa0pusat , percetakan maupun kantor perwakilan. Di Makassar, yang menempati posisi cukup tinggi di antara semua daerah di luar pulau Jawa sangat berdampak pada pelayanan ...\\n\\t\\xa0\\nSelengkapnya\\n\\t\\n\\t\\xa0\\n\\n\\n\\tFirmanMu Kekuatanku\\n\\t\\xa0\\n\\tDi tengah situasi yang penuh tantangan setiap orang membutuhkan kekuatan. Firman Tuhan menjadi kekuatan bagi kita.\\n\\t\\n\\tAda peningkatan jumlah orang yang mengunduh Alkitab Digital LAI dari internet lebih dari 1.000 orang di masa covid-19 ini. Mudah bagi kita\\xa0\\xa0yang tinggal di perkotaan (dengan jaringan internet yang bagus) utk mengunduh Alkitab Digital LAI. Tapi bagaimana dengan saudara2 seiman kita yang tinggal di pelosok tanah air?\\xa0\\n\\t\\n\\tLAI mempunyai program untuk menjawab kerinduan dan kebutuhan umat akan Alkitab di pelosok negeri, yaitu Satu Dalam Kasih.\\xa0\\xa0Mari doakan, wartakan dan donasikan 1 Alkitab Rp 95.000.\\n\\t\\xa0\\nInfo Lebih Lanjut\\xa0\\n\\n\\xa0\\n    \\n        \\n            \\n                \\n                    \\n                        \\n                        \\n                            \\n                            \\n                            \\n                                \\n                                    \\n\\n                                \\n                                \\n                                    \\n                                        \\n                                            \\n                                                \\n                                                    \\n                                                \\n                                            \\n                                        \\n                                    \\n                                    \\n                                        \\n                                            \\n                                                \\n                                                    \\n                                                \\n                                            \\n                                        \\n                                    \\n                                    \\n\\n\\n\\n\\n\\n\\n                                \\n                            \\n                        \\n                        \\n                        \\n                            \\n                        \\n                    \\n                \\n            \\n        \\n    \\n\\n\\tSaling Menolong\\n\\t\\n\\tKarena orang-orang miskin selalu ada pada kamu, tetapi Aku tidak akan selalu ada pada kamu.” Yoh. 12:8 \\n\\t\\n\\tBencana telah membuat mereka yang lemah menjadi semakin lemah, juga mereka yang renta dan miskin lebih renta dan miskin lagi. Semoga ini sudah cukup untuk membuat mereka terlihat lebih jelas di mata kita, sehingga kita tergerak menolong mereka.\\xa0\\n\\n\\xa0\\n\\n\\tLembaga Alkitab Indonesia ikut mendukung, berdoa dan berjuang bersama gereja dan\\xa0lembaga-lembaga kristiani dalam mengatasi penyebaran pandemi COVID-19 :\\xa0\\n\\tPersekutuan Gereja-gereja di Indonesia(PGI) dengan gerakan Gereja Melawan Covid-19 (GMC 19) melalui:\\n\\twww.gmc19.online\\xa0/\\xa0Irma (0812-7574-5533)\\n\\tPELKESI :\\n\\tMelalui PELKESI Peduli Covid-19:\\n\\thtpps://pelkesi.or.id/donasi/\\xa0\\n\\tKontak :\\xa0021-7822235\\n\\tYAKKUM melalui:\\n\\thttps://yakkum.org/blog/2020/04/01/bersama-yakkum-melawan-covid-19/\\xa0\\n\\tkontak: 0271-784600\\n\\tPersekutuan Senior GMKI :\\n\\tAri Widiatmoko (0813-1808-4479)\\nShare\\n\\nTweet\\n\\nForward\\n\\nShare\\n\\n\\twww.alkitab.or.id\\xa0\\n\\t\\n\\tLembaga Alkitab Indonesia,\\n\\tJl Salemba Raya No. 12, Jakarta.\\n\\tTlp (021) 3193136\\n\\t\\n\\tGoogle Maps :\\xa0https://goo.gl/maps/N7a19JW6hmCWYxG29\\n\\nYouTube\\nFacebook\\nInstagram\\nTwitter\\n\\xa0\\n\\t\\t\\t\\t\\t\\t\\t\\t\\t\\t\\t\\t  \\n                                                \\n                                              \\n                                              \\n                                            \\n                                          \\n                                        \\n                                    \\n                                  \\n                                \\n                              \\n                            \\n                          \\n                        \\n                      \\n                    \\n                  \\n                \\n              \\n            \\n          \\n        \\n      \\n      \\n        \\n          \\n    \\n    \\n        \\n        \\n            \\n                \\n                \\n                    \\n                         \\n                    \\n                \\n                \\n            \\n        \\n        \\n        \\n    \\n    \\n        \\n        \\n            \\n                \\n                This email was sent by: \\n                Lembaga Alkitab Indonesia\\n                jl. Salemba Raya 12, Lembaga Alkitab Indonesia, Jakarta, DKI, 10430 Indonesia\\n                \\n                \\n                Privacy Policy\\n                \\n                \\n                Update Profile\\xa0\\xa0\\xa0\\xa0\\xa0\\xa0Manage Subscriptions\\xa0\\xa0\\xa0\\xa0\\xa0\\xa0\\nUnsubscribe\\n                \\n            \\n        \\n        \\n     \\n\\n\\n        \\n      \\n    \\n  \\n\\n Reply ForwardReplyForward'"
      ]
     },
     "execution_count": 31,
     "metadata": {},
     "output_type": "execute_result"
    }
   ],
   "source": [
    "get_gmail_content('((//table[@class=\"F cf zt\"])[2]//tr)[2]//td[@class=\"xY a4W\"]', False)"
   ]
  },
  {
   "cell_type": "code",
   "execution_count": 15,
   "metadata": {},
   "outputs": [
    {
     "data": {
      "text/plain": [
       "'\\'Lembaga Alkitab Indonesia info@alkitab. or. id via bounce. s7. exacttarget. com Apr 25, 2020, 11:20 AM (1 day ago)to me . Kiranya warta ini menolong kita untuk semakin kuat dan berpengharapan didalam Yesus Kristus Tuhan kita. Web Version. \\\\t. \\\\tSabtu, 25 April 2020. \\\\t . \\\\tSapaan Lembaga Alkitab Indonesia : . \\\\tRaymond, Kamu Adalah Kabar Baik. \\\\t . \\\\t\"Le (Nak), jangan lupa sering-sering menengok Mbah Puteri (Nenek) yang sudah hidup sendiri di Klaten,\" pesan Ibu saya sesudah kakek saya wafat di tahun 1985-an. Tahun 1982-1989 saya kuliah di Yogyakarta sekitar 30 km dari Klaten dan harus indekos di dekat kampus. Pesan Ibu saya . Selengkapnya. God is Our Refuge. \\\\t. \\\\tKesaksian Daud dalam Alkitab, “Biarlah aku berlindung di bawah naungan sayap-Mu. \" (Mazmur 61:5). Daud mengungkapkan kekuatirannya. , dan hal ini sebenarnya bertujuan untuk menguatkan dirinya dari rasa khawatir, takut, dan putus asa. Hanya kepada Tuhan sajalah perlindungan itu didapatkannya. \\\\t . Tonton Video. \\\\t. \\\\tPembawa Kabar Baik. \\\\t . \\\\tMenjadi pembawa berita seperti yang kita saksikan di berbagai media sesungguhnya bukanlah hal yang mudah. Seorang pembawa berita memiliki tanggungjawab atas keabsahan berita yang disampaikannya. Itu sebabnya sangat penting bagi seorang pembawa berita menguasai materi yang akan disampaikan dan menguji kebenarannya terlebih dahulu. Jika seorang pembawa berita salah dalam menyampaikan informasi, maka dampaknya akan sangat besar bagi orang-orang yang mendengarnya. Hal ini didukung pula dengan keterbatasan pendengar dalam . \\\\t . Selengkapnya. \\\\t . \\\\tMenjadi Pembawa Kabar Baik. \\\\t . \\\\tKitab Injil mencatat bahwa para perempuan menjadi saksi mula-mula bahwa Yesus telah bangkit. Mereka berbagi kabar sukacita itu kepada para murid yang lain. Kabar baik memang harus diteruskan, diberitakan, dibagikan. Kabar baik memberi kelegaan, membangkitkan harapan dan meneguhkan iman. \\\\t. \\\\tKisah Perempuan yang membawa kabar baik diceritakan dengan begitu hidup oleh Ibu Puji, seorang tuna netra warga GKJ Jakarta. Sejak lama, Ibu Puji dalam segala keterbatasannya belajar mencintai Kitab Suci dan membagikan berkat Kabar Baik yang didengar dan dipelajarinya kepada orang lain melalui dongeng. \\\\t. \\\\tJika Ibu Puji saja memiliki semangat yang begitu besar membagikan kabar baik kepada sesama, kita pun semestinya demikian. Karena kita pun dipanggil Tuhan untuk menjadi pembawa Kabar Baik. Seperti ada tertulis: \"Betapa indahnya kedatangan mereka yang membawa kabar baik!\" (Roma 10:15b). Dengarkan Dongeng. \\\\tDoa Bagi Bangsa. \\\\t . \\\\tDitengah perjuangan dalam menghadapi musibah dan bencana virus COVID-19 yang sedang melanda bangsa kita, mari kita bersatu hati bersepakat untuk menaikkan doa kita :. Mari Berdoa. \\\\tPermohonan Doa. \\\\t . \\\\tBila Sahabat Alkitab memiliki permohonan doa khusus, maka mohon mengisi dan mengirimkan form permohonan doa dengan klik \"Form Doa\" dibawah ini :. Form Doa. \\\\tYuk Ngobrolin Alkitab. \\\\t . \\\\tMari terus mendengar suara-Nya melalui bacaan, renungan, serta doa yang akan ditayangkan setiap harinya melalui Podcast Lembaga Alkitab Indonesia . Dengarkan. \\\\t. \\\\t\\\\t. \\\\t\\\\tBersama LAI Lawan Covid-19. \\\\t\\\\t . \\\\t\\\\t. LAI mengucap syukur atas penyertaan Tuhan dan berterima kasih atas empati dan dukungan para sahabat Alkitab dalam usaha pengadaan paket Covid-19. Sampai tanggal 23 April 2020 ini telah terhimpun pengadaan 437 paket dukungan. Masih dibutuhkan 1511 Paket Dukungan. \\\\t\\\\t. \\\\t\\\\tKami kembali mengajak para Sahabat untuk berbelarasa dan bersolidaritas serta saling menguatkan semua pihak yang terdampak. Di saat seperti inilah setiap orang perlu dibantu untuk tetap melihat pertolongan serta cahaya cinta kasih Kristus. \\\\t\\\\t. \\\\t\\\\tDonasi Transfer melalui :. \\\\t\\\\tBRI Cabang Kramat Raya. \\\\t\\\\tNo. Rek 0335. 0100. 0281. 304 . \\\\t\\\\tBank BNI Cabang Kramat Raya. \\\\t\\\\tNo. Rek 001. 053. 4054. \\\\t\\\\tBCA Cabang Matraman. \\\\t\\\\tNo Rek. 3423016261 . \\\\t\\\\tBank Mandiri Cabang Gambir,. \\\\t\\\\tNo. Rek 119. 008. 0000126. \\\\t\\\\t. \\\\t\\\\tBantuan bisa di salurkan melalui :. \\\\t\\\\tGO-PAY | OVO | DANA. \\\\t\\\\t . \\\\t\\\\tScan QR code. \\\\t\\\\tdengan klik Info dibawah ini :. Info Lebih Lanjut. \\\\t. \\\\tGameboard Pahlawan Iman. \\\\t. \\\\tSekarang di rumah aja yaa…. \\\\tAyo ajak anak-anak bermain dan belajar kisah para tokoh Alkitab Perjanjian Lama dengan Gameboard Pahlawan Iman Terbitan. TERBARU dari LAI. \\\\t. \\\\tPemesanan dapat di lakukan di :. \\\\tSHOPEE | . TOKOPEDIA | BLIBLI | . BUKALAPAK. \\\\t. \\\\tKami mengajak jemaat mengunjungi toko online Bible House LAI Perwakilan Medan, Makassar, Manado dan Jayapura di TOKOPEDIA. \\\\tKata kunci pencarian: BIBLE HOUSE. \\\\t. \\\\tAtau bisa juga dengan menghubungi nomor dibawah ini melalui sms/whatsapp : . \\\\t. \\\\tJAKARTA : 0811 9952 890. \\\\tMEDAN : 0813 3144 2551. \\\\tMAKASSAR : 0852 9987 8637. \\\\tMANADO : 0822 9304 0958. \\\\tJAYAPURA : 0812 5122 7424. \\\\t . Info Lebih Lanjut. \\\\tBerbagi Kasih di Tengah Bencana. \\\\t . \\\\tPenyerahan Tahap Pertama Paket Peduli Covid-19 LAI Kita patut bersyukur di tengah pandemi Covid-19 yang melanda negeri ini, Tuhan mengirimkan orang-orang baik yang memiliki empati dan bersedia mendukung pelayanan LAI, menggalang dukungan menghadapi bencana Covid-19. Program penggalangan dukungan ini telah dilakukan LAI sejak awal Maret 2020 yang lalu. Penyaluran paket bantuan berupa :. Baca Selengkapnya. Kabar dari Kantor LAI. Perwakilan Medan. \\\\t. \\\\tWabah virus Corona telah melanda beberapa negara di dunia termasuk Indonesia. Salah satu upaya pemerintah untuk memutuskan rantai penyebaran virus tersebut adalah dengan melakukan Phisycal Distancing. Sampai batas waktu yang tidak ditentukan, masyarakat diminta untuk membatasi kegiatan di luar rumah termasuk kegiatan berbelanja di toko-toko buku. Sebagai lembaga keagamaan, Lembaga Alkitab Indonesia tentu turut . \\\\t . Selengkapnya. Kabar dari Kantor LAI. Perwakilan Makassar. \\\\t. \\\\tDi tengah situasi penyebaran virus Covid-19 yang begitu cepat,siapa pun bisa terpapar. Di samping itu, banyak bidang kehidupan yang terdampak. Salah satu diantara nya adalah pelayanan Lembaga Alkitab Indonesia baik kantor pusat , percetakan maupun kantor perwakilan. Di Makassar, yang menempati posisi cukup tinggi di antara semua daerah di luar pulau Jawa sangat berdampak pada pelayanan . \\\\t . Selengkapnya. \\\\t. \\\\t . \\\\tFirmanMu Kekuatanku. \\\\t . \\\\tDi tengah situasi yang penuh tantangan setiap orang membutuhkan kekuatan. Firman Tuhan menjadi kekuatan bagi kita. \\\\t. \\\\tAda peningkatan jumlah orang yang mengunduh Alkitab Digital LAI dari internet lebih dari 1. 000 orang di masa covid-19 ini. Mudah bagi kita yang tinggal di perkotaan (dengan jaringan internet yang bagus) utk mengunduh Alkitab Digital LAI. Tapi bagaimana dengan saudara2 seiman kita yang tinggal di pelosok tanah air? . \\\\t. \\\\tLAI mempunyai program untuk menjawab kerinduan dan kebutuhan umat akan Alkitab di pelosok negeri, yaitu Satu Dalam Kasih. Mari doakan, wartakan dan donasikan 1 Alkitab Rp 95. 000. \\\\t . Info Lebih Lanjut . \\\\tSaling Menolong. \\\\t. \\\\tKarena orang-orang miskin selalu ada pada kamu, tetapi Aku tidak akan selalu ada pada kamu. ” Yoh. 12:8 . \\\\t. \\\\tBencana telah membuat mereka yang lemah menjadi semakin lemah, juga mereka yang renta dan miskin lebih renta dan miskin lagi. Semoga ini sudah cukup untuk membuat mereka terlihat lebih jelas di mata kita, sehingga kita tergerak menolong mereka. \\\\tLembaga Alkitab Indonesia ikut mendukung, berdoa dan berjuang bersama gereja dan lembaga-lembaga kristiani dalam mengatasi penyebaran pandemi COVID-19 : . \\\\tPersekutuan Gereja-gereja di Indonesia(PGI) dengan gerakan Gereja Melawan Covid-19 (GMC 19) melalui:. \\\\twww. gmc19. online / Irma (0812-7574-5533). \\\\tPELKESI :. \\\\tMelalui PELKESI Peduli Covid-19:. \\\\thtpps://pelkesi. or. id/donasi/ . \\\\tKontak : 021-7822235. \\\\tYAKKUM melalui:. \\\\thttps://yakkum. org/blog/2020/04/01/bersama-yakkum-melawan-covid-19/ . \\\\tkontak: 0271-784600. \\\\tPersekutuan Senior GMKI :. \\\\tAri Widiatmoko (0813-1808-4479). Share. Tweet. Forward. Share. \\\\twww. alkitab. or. id . \\\\t. \\\\tLembaga Alkitab Indonesia,. \\\\tJl Salemba Raya No. 12, Jakarta. \\\\tTlp (021) 3193136. \\\\t. \\\\tGoogle Maps : https://goo. gl/maps/N7a19JW6hmCWYxG29. YouTube. Facebook. Instagram. Twitter. \\\\t\\\\t\\\\t\\\\t\\\\t\\\\t\\\\t\\\\t\\\\t\\\\t\\\\t\\\\t . This email was sent by: . Lembaga Alkitab Indonesia. jl. Salemba Raya 12, Lembaga Alkitab Indonesia, Jakarta, DKI, 10430 Indonesia. Privacy Policy. Update Profile Manage Subscriptions . Unsubscribe. Reply ForwardReplyForward\\''"
      ]
     },
     "execution_count": 15,
     "metadata": {},
     "output_type": "execute_result"
    }
   ],
   "source": [
    "clean_raw_text(t.read('//div[@role=\"listitem\"]'))"
   ]
  },
  {
   "cell_type": "code",
   "execution_count": 135,
   "metadata": {},
   "outputs": [
    {
     "data": {
      "text/plain": [
       "\"' Getting too much email? Unsubscribe | Manage subscriptionsJSJobStreet. com Singapore Sat 4/18/2020 10:58 AM You . View in web browser. Dear raymond,. We understand that it can be overwhelming for candidates to deal with so much uncertainty in the world right now. That is why we have put together a COVID-19 resource hub to connect you with. Jobs. Immediate job vacancies to supplement income. Featured Employers. Companies hiring amid the COVID-19. Resources. Insights and tips to help you navigate through this challenging period. Remember, “Tough times don’t last, but tough people do”. Together, we can overcome!. #SGUnitedJobs. Take me there. Sincerely,. JobStreet Singapore. Connect with JobStreet. Private Policy . Terms & Conditions. JobStreet Singapore. 10 Anson Road, #05-20 International Plaza, Singapore 079903. * This is not an unsolicited message. To . unsubscribe please . click here'\""
      ]
     },
     "execution_count": 135,
     "metadata": {},
     "output_type": "execute_result"
    }
   ],
   "source": [
    "get_email_content(1)"
   ]
  },
  {
   "cell_type": "code",
   "execution_count": 50,
   "metadata": {},
   "outputs": [],
   "source": [
    "search_keyword('order')"
   ]
  },
  {
   "cell_type": "code",
   "execution_count": 156,
   "metadata": {},
   "outputs": [],
   "source": [
    "outlook_emails = extract_outlook_email_headline(limit=100)"
   ]
  },
  {
   "cell_type": "code",
   "execution_count": 22,
   "metadata": {},
   "outputs": [
    {
     "name": "stdout",
     "output_type": "stream",
     "text": [
      "[RPA][ERROR] - cannot find ((//table[@class=\"F cf zt\"])[2]//tr)[51]//td[@class=\"xY a4W\"]\n",
      "[RPA][ERROR] - cannot find ((//table[@class=\"F cf zt\"])[2]//tr)[51]//td[@class=\"xY a4W\"]\n"
     ]
    }
   ],
   "source": [
    "gmails = extract_google_email_headline(limit=150)"
   ]
  },
  {
   "cell_type": "code",
   "execution_count": 34,
   "metadata": {},
   "outputs": [
    {
     "data": {
      "text/plain": [
       "True"
      ]
     },
     "execution_count": 34,
     "metadata": {},
     "output_type": "execute_result"
    }
   ],
   "source": [
    "t.close()"
   ]
  },
  {
   "cell_type": "markdown",
   "metadata": {},
   "source": [
    "## Dump dataset"
   ]
  },
  {
   "cell_type": "code",
   "execution_count": 30,
   "metadata": {},
   "outputs": [],
   "source": [
    "import csv\n",
    "\n",
    "emails = outlook_emails\n",
    "\n",
    "with open('all_email_3.csv', mode='w' ,newline='', encoding='utf-8') as csv_file:\n",
    "    fieldnames = ['id', 'label']\n",
    "    writer = csv.DictWriter(csv_file, fieldnames=fieldnames, delimiter='|')\n",
    "\n",
    "    writer.writeheader()\n",
    "    for email in emails:\n",
    "        writer.writerow({'id': email[0], 'label': email[1]})"
   ]
  },
  {
   "cell_type": "code",
   "execution_count": 152,
   "metadata": {},
   "outputs": [
    {
     "data": {
      "text/plain": [
       "True"
      ]
     },
     "execution_count": 152,
     "metadata": {},
     "output_type": "execute_result"
    }
   ],
   "source": [
    "t.close()"
   ]
  },
  {
   "cell_type": "markdown",
   "metadata": {},
   "source": [
    "### Try with NLTK"
   ]
  },
  {
   "cell_type": "code",
   "execution_count": 13,
   "metadata": {},
   "outputs": [],
   "source": [
    "import nltk\n",
    "from nltk.tag.stanford import StanfordNERTagger\n",
    "import os\n",
    "java_path = \"C:\\Program Files (x86)\\Common Files\\Oracle\\Java\\javapath\\java.exe\"\n",
    "os.environ['JAVAHOME'] = java_path"
   ]
  },
  {
   "cell_type": "code",
   "execution_count": 170,
   "metadata": {},
   "outputs": [
    {
     "name": "stdout",
     "output_type": "stream",
     "text": [
      "showing info https://raw.githubusercontent.com/nltk/nltk_data/gh-pages/index.xml\n"
     ]
    },
    {
     "data": {
      "text/plain": [
       "True"
      ]
     },
     "execution_count": 170,
     "metadata": {},
     "output_type": "execute_result"
    }
   ],
   "source": [
    "nltk.download()"
   ]
  },
  {
   "cell_type": "code",
   "execution_count": 14,
   "metadata": {},
   "outputs": [],
   "source": [
    "# https://nlp.stanford.edu/software/CRF-NER.html#Download\n",
    "# st = StanfordNERTagger('stanford-ner/classifiers/english.muc.7class.distsim.crf.ser.gz', 'stanford-ner/stanford-ner.jar')\n",
    "st = StanfordNERTagger('stanford-ner/classifiers/english.all.3class.distsim.crf.ser.gz', 'stanford-ner/stanford-ner.jar')"
   ]
  },
  {
   "cell_type": "code",
   "execution_count": null,
   "metadata": {},
   "outputs": [],
   "source": [
    "input_text = clean_raw_text(t.read('//div[@class=\"wide-content-host\"]'))\n",
    "for sent in nltk.sent_tokenize(input_text):\n",
    "    tokens = nltk.tokenize.word_tokenize(sent)\n",
    "    tags = st.tag(tokens)\n",
    "    for tag in tags:\n",
    "        print(tag)"
   ]
  },
  {
   "cell_type": "markdown",
   "metadata": {},
   "source": [
    "### Template extraction based on text similarity"
   ]
  },
  {
   "cell_type": "code",
   "execution_count": 127,
   "metadata": {},
   "outputs": [],
   "source": [
    "order_status_words = [\n",
    "    'your order is being processed.',\n",
    "    'your order has been confirmed.',\n",
    "    'your order has been shipped.',\n",
    "    '_ORG_ has received your order.',\n",
    "    'your order has been ackowledged by _ORG_',\n",
    "    'your order has been ackowledged by _PERSON_',\n",
    "    'we have received your order.',\n",
    "    'we are glad to inform you that your order _GPE_ has been fully delivered',\n",
    "    'Your Order _GPE_ has been placed on _DATE_.',\n",
    "    'Item from your order _GPE_ has been Shipped',\n",
    "    'Item(s) from your order _GPE_ has been Shipped',\n",
    "    'Your order will be shipped in _NUMBER_ business days',\n",
    "    'your package is on the way',\n",
    "    'your package will arrive soon',\n",
    "    'your package has shipped out'\n",
    "]\n",
    "\n"
   ]
  },
  {
   "cell_type": "code",
   "execution_count": 157,
   "metadata": {},
   "outputs": [],
   "source": [
    "from collections import Counter\n",
    "from sklearn.feature_extraction.text import CountVectorizer\n",
    "from sklearn.metrics.pairwise import cosine_similarity\n",
    "import nltk\n",
    "\n",
    "def get_cosine_sim(*strs): \n",
    "    vectors = [t for t in get_vectors(*strs)]\n",
    "    return cosine_similarity(vectors)\n",
    "    \n",
    "def get_vectors(*strs):\n",
    "    text = [t for t in strs]\n",
    "    vectorizer = CountVectorizer(text)\n",
    "    vectorizer.fit(text)\n",
    "    return vectorizer.transform(text).toarray()\n",
    "\n",
    "def get_arg_max(sim_metrics):\n",
    "    return np.argmax(np.amax(sim_metrics, axis=1))\n",
    "\n",
    "def get_order_number_sentence(raw_doc):\n",
    "    doc = clean_raw_text(raw_doc)\n",
    "    raw_texts_0 = nltk.sent_tokenize(doc)\n",
    "    raw_texts = []\n",
    "    for raw_text in raw_texts_0:\n",
    "        if len(raw_text.split(' ')) < 3:\n",
    "            continue\n",
    "        raw_texts.append(raw_text)\n",
    "    masked_raw_texts = []\n",
    "    for raw_text in (raw_texts):\n",
    "        masked_raw_texts.append(remove_entity_words(raw_text))\n",
    "    sim_metrics = np.zeros((len(masked_raw_texts),len(order_status_words)))\n",
    "    for i in range(len(masked_raw_texts)):\n",
    "        for j in range(len(order_status_words)):\n",
    "            text = masked_raw_texts[i]\n",
    "            sentence = order_status_words[j]\n",
    "            sim_metrics[i,j] = get_cosine_sim(text, sentence)[0,1]\n",
    "    return raw_texts[get_arg_max(sim_metrics)]"
   ]
  },
  {
   "cell_type": "code",
   "execution_count": 158,
   "metadata": {},
   "outputs": [
    {
     "data": {
      "text/plain": [
       "\"Kim's Catering Pte Ltd has acknowledged your order -.\""
      ]
     },
     "execution_count": 158,
     "metadata": {},
     "output_type": "execute_result"
    }
   ],
   "source": [
    "get_order_number_sentence(t.read('//div[@class=\"wide-content-host\"]'))"
   ]
  },
  {
   "cell_type": "code",
   "execution_count": 136,
   "metadata": {},
   "outputs": [
    {
     "ename": "AttributeError",
     "evalue": "'str' object has no attribute 'read'",
     "output_type": "error",
     "traceback": [
      "\u001b[1;31m---------------------------------------------------------------------------\u001b[0m",
      "\u001b[1;31mAttributeError\u001b[0m                            Traceback (most recent call last)",
      "\u001b[1;32m<ipython-input-136-c3b4e1c8052d>\u001b[0m in \u001b[0;36m<module>\u001b[1;34m\u001b[0m\n\u001b[0;32m      1\u001b[0m \u001b[1;32mimport\u001b[0m \u001b[0mjson\u001b[0m\u001b[1;33m\u001b[0m\u001b[1;33m\u001b[0m\u001b[0m\n\u001b[1;32m----> 2\u001b[1;33m \u001b[0mjson\u001b[0m\u001b[1;33m.\u001b[0m\u001b[0mload\u001b[0m\u001b[1;33m(\u001b[0m\u001b[1;34m\"model/order_status_sample.json\"\u001b[0m\u001b[1;33m)\u001b[0m\u001b[1;33m\u001b[0m\u001b[1;33m\u001b[0m\u001b[0m\n\u001b[0m",
      "\u001b[1;32m~\\Anaconda3\\lib\\json\\__init__.py\u001b[0m in \u001b[0;36mload\u001b[1;34m(fp, cls, object_hook, parse_float, parse_int, parse_constant, object_pairs_hook, **kw)\u001b[0m\n\u001b[0;32m    291\u001b[0m     \u001b[0mkwarg\u001b[0m\u001b[1;33m;\u001b[0m \u001b[0motherwise\u001b[0m\u001b[0;31m \u001b[0m\u001b[0;31m`\u001b[0m\u001b[0;31m`\u001b[0m\u001b[0mJSONDecoder\u001b[0m\u001b[0;31m`\u001b[0m\u001b[0;31m`\u001b[0m \u001b[1;32mis\u001b[0m \u001b[0mused\u001b[0m\u001b[1;33m.\u001b[0m\u001b[1;33m\u001b[0m\u001b[1;33m\u001b[0m\u001b[0m\n\u001b[0;32m    292\u001b[0m     \"\"\"\n\u001b[1;32m--> 293\u001b[1;33m     return loads(fp.read(),\n\u001b[0m\u001b[0;32m    294\u001b[0m         \u001b[0mcls\u001b[0m\u001b[1;33m=\u001b[0m\u001b[0mcls\u001b[0m\u001b[1;33m,\u001b[0m \u001b[0mobject_hook\u001b[0m\u001b[1;33m=\u001b[0m\u001b[0mobject_hook\u001b[0m\u001b[1;33m,\u001b[0m\u001b[1;33m\u001b[0m\u001b[1;33m\u001b[0m\u001b[0m\n\u001b[0;32m    295\u001b[0m         \u001b[0mparse_float\u001b[0m\u001b[1;33m=\u001b[0m\u001b[0mparse_float\u001b[0m\u001b[1;33m,\u001b[0m \u001b[0mparse_int\u001b[0m\u001b[1;33m=\u001b[0m\u001b[0mparse_int\u001b[0m\u001b[1;33m,\u001b[0m\u001b[1;33m\u001b[0m\u001b[1;33m\u001b[0m\u001b[0m\n",
      "\u001b[1;31mAttributeError\u001b[0m: 'str' object has no attribute 'read'"
     ]
    }
   ],
   "source": [
    "import json\n",
    "json.load(\"model/order_status_sample.json\")"
   ]
  },
  {
   "cell_type": "code",
   "execution_count": 137,
   "metadata": {},
   "outputs": [
    {
     "name": "stdout",
     "output_type": "stream",
     "text": [
      "['hh', 'bb']\n"
     ]
    }
   ],
   "source": [
    "import json\n",
    "with open('model/order_status_sample.json') as json_file:\n",
    "    data = json.load(json_file)\n",
    "    print(data)"
   ]
  },
  {
   "cell_type": "code",
   "execution_count": 148,
   "metadata": {},
   "outputs": [],
   "source": [
    "class_str = read('(//div[contains(@class,\"showHoverActionsOnHover\")])[1]/@class')"
   ]
  },
  {
   "cell_type": "code",
   "execution_count": 150,
   "metadata": {},
   "outputs": [],
   "source": [
    "class_str = read('(//div[contains(@class,\"showHoverActionsOnHover\")])[2]/@class')"
   ]
  },
  {
   "cell_type": "code",
   "execution_count": 142,
   "metadata": {},
   "outputs": [],
   "source": [
    "for i in range(50):\n",
    "    t.hover('(//div[contains(@class,\"showHoverActionsOnHover\")])[{}]'.format(i+1))\n",
    "    t.wait(1)"
   ]
  },
  {
   "cell_type": "code",
   "execution_count": 143,
   "metadata": {},
   "outputs": [
    {
     "data": {
      "text/plain": [
       "\"'JSJobStreet. com Singapore Sat 4/18/2020 10:58 AM You . View in web browser. Dear raymond,. We understand that it can be overwhelming for candidates to deal with so much uncertainty in the world right now. That is why we have put together a COVID-19 resource hub to connect you with. Jobs. Immediate job vacancies to supplement income. Featured Employers. Companies hiring amid the COVID-19. Resources. Insights and tips to help you navigate through this challenging period. Remember, “Tough times don’t last, but tough people do”. Together, we can overcome!. #SGUnitedJobs. Take me there. Sincerely,. JobStreet Singapore. Connect with JobStreet. Private Policy . Terms & Conditions. JobStreet Singapore. 10 Anson Road, #05-20 International Plaza, Singapore 079903. * This is not an unsolicited message. To . unsubscribe please . click here'\""
      ]
     },
     "execution_count": 143,
     "metadata": {},
     "output_type": "execute_result"
    }
   ],
   "source": [
    "get_email_content(1)"
   ]
  },
  {
   "cell_type": "code",
   "execution_count": 151,
   "metadata": {},
   "outputs": [
    {
     "data": {
      "text/plain": [
       "False"
      ]
     },
     "execution_count": 151,
     "metadata": {},
     "output_type": "execute_result"
    }
   ],
   "source": [
    "def is_email_unread(class_str):\n",
    "    class_n = class_str.split('showHoverActionsOnHover')\n",
    "    if len(class_n) <2:\n",
    "        return False\n",
    "    if class_n[1] != '' :\n",
    "        return True\n",
    "    return False\n",
    "is_email_unread(class_str)"
   ]
  }
 ],
 "metadata": {
  "kernelspec": {
   "display_name": "Python 3",
   "language": "python",
   "name": "python3"
  },
  "language_info": {
   "codemirror_mode": {
    "name": "ipython",
    "version": 3
   },
   "file_extension": ".py",
   "mimetype": "text/x-python",
   "name": "python",
   "nbconvert_exporter": "python",
   "pygments_lexer": "ipython3",
   "version": "3.7.1"
  }
 },
 "nbformat": 4,
 "nbformat_minor": 2
}
